{
 "cells": [
  {
   "cell_type": "code",
   "execution_count": 1,
   "metadata": {
    "collapsed": false
   },
   "outputs": [],
   "source": [
    "# Library Imports and Python parameter settings\n",
    "%matplotlib inline\n",
    "\n",
    "from __future__ import division\n",
    "import numpy as np\n",
    "import matplotlib.pyplot as plt\n",
    "import scipy.io as sio\n",
    "import scipy.signal as sig\n",
    "import scipy.constants as const\n",
    "from astropy.time import Time\n",
    "import sys\n",
    "sys.path.append('/opt/local/Library/Frameworks/Python.framework/Versions/2.7/lib/python2.7')\n",
    "import nds2\n",
    "\n",
    "# Setup connection to the NDS\n",
    "conn = nds2.connection('nds40.ligo.caltech.edu', 31200)\n",
    "\n",
    "# Setup start and stop times\n",
    "times = '2017-02-07 12:00:00'\n",
    "t = Time(times, format='iso', scale='utc')\n",
    "t_start = int(t.gps)\n",
    "dur = 100\n",
    "\n",
    "# channel names\n",
    "channels = ['C1:PEM-RMS_BS_X_0p03_0p1', 'C1:PEM-RMS_BS_X_0p1_0p3', 'C1:PEM-RMS_BS_X_0p3_1', 'C1:PEM-RMS_BS_X_10_30', 'C1:PEM-RMS_BS_X_1_3', 'C1:PEM-RMS_BS_X_3_10','C1:PEM-RMS_BS_Y_0p03_0p1', 'C1:PEM-RMS_BS_Y_0p1_0p3', 'C1:PEM-RMS_BS_Y_0p3_1', 'C1:PEM-RMS_BS_Y_10_30', 'C1:PEM-RMS_BS_Y_1_3', 'C1:PEM-RMS_BS_Y_3_10']\n",
    "data = conn.fetch(t_start, t_start + dur, channels)\n",
    "\n",
    "# organize by channel and frequency band\n",
    "for chan in range(len(channels)):\n",
    "    chan1_f1 = data[0].data\n",
    "    chan1_f2 = data[1].data\n",
    "    chan1_f3 = data[2].data\n",
    "    chan1_f4 = data[3].data\n",
    "    chan1_f5 = data[4].data\n",
    "    chan1_f6 = data[5].data\n",
    "    chan2_f1 = data[6].data\n",
    "    chan2_f2 = data[7].data\n",
    "    chan2_f3 = data[8].data\n",
    "    chan2_f4 = data[9].data\n",
    "    chan2_f5 = data[10].data\n",
    "    chan2_f6 = data[11].data\n"
   ]
  },
  {
   "cell_type": "code",
   "execution_count": null,
   "metadata": {
    "collapsed": false
   },
   "outputs": [],
   "source": []
  },
  {
   "cell_type": "code",
   "execution_count": null,
   "metadata": {
    "collapsed": false
   },
   "outputs": [],
   "source": []
  },
  {
   "cell_type": "code",
   "execution_count": 2,
   "metadata": {
    "collapsed": false
   },
   "outputs": [],
   "source": [
    "\n",
    "data_array = np.zeros([chan1_f1.size, len(channels) + 1])\n",
    "for i in range(len(chan1_f1)):\n",
    "    data_array[i][0] = i + 1\n",
    "    data_array[i][1] = chan1_f1[i]\n",
    "    data_array[i][2] = chan2_f1[i]\n",
    "    data_array[i][3] = chan1_f2[i]\n",
    "    data_array[i][4] = chan2_f2[i]\n",
    "    data_array[i][5] = chan1_f3[i]\n",
    "    data_array[i][6] = chan2_f3[i]\n",
    "    data_array[i][7] = chan1_f4[i]\n",
    "    data_array[i][8] = chan2_f4[i]\n",
    "    data_array[i][9] = chan1_f5[i]\n",
    "    data_array[i][10] = chan2_f5[i]\n",
    "    data_array[i][11] = chan1_f6[i]\n",
    "    data_array[i][12] = chan2_f6[i]\n",
    "sio.savemat('data_array.mat', mdict={'data': data_array})   \n",
    "\n",
    "\n",
    "\n",
    "\n",
    "\n",
    "\n",
    "\n",
    "\n",
    "\n",
    "\n",
    "\n",
    "\n",
    "\n",
    "\n",
    "\n",
    "\n",
    "\n",
    "\n",
    "\n",
    "\n",
    "\n",
    "    "
   ]
  },
  {
   "cell_type": "code",
   "execution_count": null,
   "metadata": {
    "collapsed": false
   },
   "outputs": [],
   "source": []
  },
  {
   "cell_type": "code",
   "execution_count": 3,
   "metadata": {
    "collapsed": false
   },
   "outputs": [
    {
     "name": "stdout",
     "output_type": "stream",
     "text": [
      "[[  1.00000000e+00   1.30655682e-02   1.96922962e-02 ...,   1.44324124e-01\n",
      "    2.65586823e-01   3.25820833e-01]\n",
      " [  2.00000000e+00   1.30893001e-02   1.96867660e-02 ...,   1.43327892e-01\n",
      "    2.68170238e-01   3.22102875e-01]\n",
      " [  3.00000000e+00   1.31131681e-02   1.96812358e-02 ...,   1.41908392e-01\n",
      "    2.70610869e-01   3.18429053e-01]\n",
      " ..., \n",
      " [  1.59800000e+03   2.24620458e-02   2.02080570e-02 ...,   1.12141699e-01\n",
      "    2.83011228e-01   3.43809605e-01]\n",
      " [  1.59900000e+03   2.24656034e-02   2.02123411e-02 ...,   1.14164725e-01\n",
      "    2.80646592e-01   3.36993068e-01]\n",
      " [  1.60000000e+03   2.24691965e-02   2.02168357e-02 ...,   1.16275653e-01\n",
      "    2.77803093e-01   3.30919772e-01]]\n"
     ]
    }
   ],
   "source": [
    "print data_array"
   ]
  },
  {
   "cell_type": "code",
   "execution_count": 4,
   "metadata": {
    "collapsed": false
   },
   "outputs": [
    {
     "name": "stdout",
     "output_type": "stream",
     "text": [
      "1\n"
     ]
    }
   ],
   "source": [
    "print data_array[0][0].size"
   ]
  },
  {
   "cell_type": "code",
   "execution_count": 5,
   "metadata": {
    "collapsed": false
   },
   "outputs": [
    {
     "name": "stdout",
     "output_type": "stream",
     "text": [
      "(1600, 13)\n"
     ]
    }
   ],
   "source": [
    "print data_array.shape"
   ]
  },
  {
   "cell_type": "code",
   "execution_count": 6,
   "metadata": {
    "collapsed": false
   },
   "outputs": [
    {
     "name": "stdout",
     "output_type": "stream",
     "text": [
      "[ 1.          0.01306557  0.0196923   0.21717298  0.19049117  0.08027359\n",
      "  0.10076768  0.42282334  0.54733324  0.21693914  0.14432412  0.26558682\n",
      "  0.32582083]\n"
     ]
    }
   ],
   "source": [
    "print data_array[0]"
   ]
  },
  {
   "cell_type": "code",
   "execution_count": null,
   "metadata": {
    "collapsed": false
   },
   "outputs": [],
   "source": []
  },
  {
   "cell_type": "code",
   "execution_count": null,
   "metadata": {
    "collapsed": false
   },
   "outputs": [],
   "source": []
  },
  {
   "cell_type": "code",
   "execution_count": null,
   "metadata": {
    "collapsed": false
   },
   "outputs": [],
   "source": []
  },
  {
   "cell_type": "code",
   "execution_count": null,
   "metadata": {
    "collapsed": false
   },
   "outputs": [],
   "source": []
  },
  {
   "cell_type": "code",
   "execution_count": null,
   "metadata": {
    "collapsed": false
   },
   "outputs": [],
   "source": []
  },
  {
   "cell_type": "code",
   "execution_count": null,
   "metadata": {
    "collapsed": false
   },
   "outputs": [],
   "source": []
  },
  {
   "cell_type": "code",
   "execution_count": null,
   "metadata": {
    "collapsed": false
   },
   "outputs": [],
   "source": []
  },
  {
   "cell_type": "code",
   "execution_count": null,
   "metadata": {
    "collapsed": false
   },
   "outputs": [],
   "source": []
  },
  {
   "cell_type": "code",
   "execution_count": null,
   "metadata": {
    "collapsed": true
   },
   "outputs": [],
   "source": []
  }
 ],
 "metadata": {
  "anaconda-cloud": {},
  "kernelspec": {
   "display_name": "Python [default]",
   "language": "python",
   "name": "python2"
  },
  "language_info": {
   "codemirror_mode": {
    "name": "ipython",
    "version": 2
   },
   "file_extension": ".py",
   "mimetype": "text/x-python",
   "name": "python",
   "nbconvert_exporter": "python",
   "pygments_lexer": "ipython2",
   "version": "2.7.12"
  }
 },
 "nbformat": 4,
 "nbformat_minor": 1
}
