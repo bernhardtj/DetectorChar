{
 "cells": [
  {
   "cell_type": "code",
   "execution_count": 1,
   "metadata": {
    "collapsed": false
   },
   "outputs": [],
   "source": [
    "# Library Imports and Python parameter settings\n",
    "%matplotlib inline\n",
    "\n",
    "from __future__ import division\n",
    "import numpy as np\n",
    "#import matplotlib.pyplot as plt\n",
    "import scipy.io as sio\n",
    "#import scipy.signal as sig\n",
    "#import scipy.constants as const\n",
    "from astropy.time import Time\n",
    "#import sys\n",
    "#sys.path.append('/opt/local/Library/Frameworks/Python.framework/Versions/2.7/lib/python2.7')\n",
    "import nds2"
   ]
  },
  {
   "cell_type": "code",
   "execution_count": 3,
   "metadata": {
    "collapsed": false
   },
   "outputs": [
    {
     "name": "stdout",
     "output_type": "stream",
     "text": [
      "C1:PEM-RMS_BS_X_0p03_0p1\n",
      "C1:PEM-RMS_BS_X_0p1_0p3\n",
      "C1:PEM-RMS_BS_X_0p3_1\n",
      "C1:PEM-RMS_BS_X_10_30\n",
      "C1:PEM-RMS_BS_X_1_3\n",
      "C1:PEM-RMS_BS_X_3_10\n",
      "C1:PEM-RMS_BS_Y_0p03_0p1\n",
      "C1:PEM-RMS_BS_Y_0p1_0p3\n",
      "C1:PEM-RMS_BS_Y_0p3_1\n",
      "C1:PEM-RMS_BS_Y_10_30\n",
      "C1:PEM-RMS_BS_Y_1_3\n",
      "C1:PEM-RMS_BS_Y_3_10\n",
      "C1:PEM-RMS_BS_Z_0p03_0p1\n",
      "C1:PEM-RMS_BS_Z_0p1_0p3\n",
      "C1:PEM-RMS_BS_Z_0p3_1\n",
      "C1:PEM-RMS_BS_Z_10_30\n",
      "C1:PEM-RMS_BS_Z_1_3\n",
      "C1:PEM-RMS_BS_Z_3_10\n"
     ]
    }
   ],
   "source": [
    "ifo = 'C1'\n",
    "# Setup connection to the NDS\n",
    "conn = nds2.connection('nds40.ligo.caltech.edu', 31200)\n",
    "\n",
    "# Setup start and stop times\n",
    "times = '2017-03-01 00:00:00'\n",
    "t = Time(times, format='iso', scale='utc')\n",
    "t_start = int(t.gps)\n",
    "dur = 1000\n",
    "\n",
    "# channel names\n",
    "chan_head = ifo + ':' + 'PEM-' + 'RMS' + '_'\n",
    "sensors = {'BS'}\n",
    "dofs = {'X', 'Y', 'Z'}\n",
    "bands = {'0p03_0p1', '0p1_0p3', '0p3_1', '1_3', '3_10', '10_30'}\n",
    "channels = []\n",
    "# why is the channel ordering so weird? \n",
    "# need to use sorted to preserve the intended ordering\n",
    "for sensor in sorted(sensors):\n",
    "    for dof in sorted(dofs):\n",
    "        for band in sorted(bands):\n",
    "            channel = chan_head + sensor + '_' + dof + '_' + band\n",
    "            #print channel\n",
    "            channels.append(channel)\n",
    "\n",
    "\n",
    "data = conn.fetch(t_start, t_start + dur, channels)\n",
    "\n",
    "\n",
    "for i in channels:\n",
    "    print(i)"
   ]
  },
  {
   "cell_type": "code",
   "execution_count": 34,
   "metadata": {
    "collapsed": false
   },
   "outputs": [],
   "source": [
    "# save the data so that it can be loaded by matlab or python\n",
    "\n",
    "vdata = []\n",
    "# get the data and stack it into a single matrix where the data are the columns\n",
    "for k in range(len(channels)):\n",
    "    vdata.append(data[k].data)\n",
    "\n",
    "# save to a hdf5 format that matlab can read (why is compression off by default?)\n",
    "sio.savemat('data_array.mat', mdict={'data': vdata}, do_compression=True)"
   ]
  },
  {
   "cell_type": "code",
   "execution_count": 35,
   "metadata": {
    "collapsed": false
   },
   "outputs": [
    {
     "name": "stdout",
     "output_type": "stream",
     "text": [
      "Channel name is C1:PEM-RMS_BS_X_0p03_0p1\n",
      "Sample rate is 16.0 Hz\n",
      "Number of samples is 16000\n",
      "GPS Start time is 1172361618\n"
     ]
    }
   ],
   "source": [
    "print(\"Channel name is \" + data[0].channel.name)\n",
    "print(\"Sample rate is \" + str(data[0].channel.sample_rate) + \" Hz\")\n",
    "print(\"Number of samples is \" + str(data[0].length))\n",
    "print(\"GPS Start time is \" + str(data[0].gps_seconds))"
   ]
  },
  {
   "cell_type": "code",
   "execution_count": 17,
   "metadata": {
    "collapsed": false
   },
   "outputs": [
    {
     "data": {
      "text/plain": [
       "['__class__',\n",
       " '__cmp__',\n",
       " '__delattr__',\n",
       " '__dict__',\n",
       " '__doc__',\n",
       " '__eq__',\n",
       " '__format__',\n",
       " '__ge__',\n",
       " '__getattribute__',\n",
       " '__gt__',\n",
       " '__hash__',\n",
       " '__hex__',\n",
       " '__init__',\n",
       " '__int__',\n",
       " '__le__',\n",
       " '__long__',\n",
       " '__lt__',\n",
       " '__ne__',\n",
       " '__new__',\n",
       " '__oct__',\n",
       " '__reduce__',\n",
       " '__reduce_ex__',\n",
       " '__repr__',\n",
       " '__setattr__',\n",
       " '__sizeof__',\n",
       " '__str__',\n",
       " '__subclasshook__',\n",
       " 'acquire',\n",
       " 'append',\n",
       " 'channel',\n",
       " 'data',\n",
       " 'disown',\n",
       " 'gps_nanoseconds',\n",
       " 'gps_seconds',\n",
       " 'length',\n",
       " 'next',\n",
       " 'own',\n",
       " 'this',\n",
       " 'thisown']"
      ]
     },
     "execution_count": 17,
     "metadata": {},
     "output_type": "execute_result"
    }
   ],
   "source": [
    "dir(data[0])"
   ]
  },
  {
   "cell_type": "code",
   "execution_count": 21,
   "metadata": {
    "collapsed": false
   },
   "outputs": [
    {
     "data": {
      "text/plain": [
       "['CHANNEL_TYPE_MTREND',\n",
       " 'CHANNEL_TYPE_ONLINE',\n",
       " 'CHANNEL_TYPE_RAW',\n",
       " 'CHANNEL_TYPE_RDS',\n",
       " 'CHANNEL_TYPE_STATIC',\n",
       " 'CHANNEL_TYPE_STREND',\n",
       " 'CHANNEL_TYPE_TEST_POINT',\n",
       " 'DATA_TYPE_COMPLEX32',\n",
       " 'DATA_TYPE_FLOAT32',\n",
       " 'DATA_TYPE_FLOAT64',\n",
       " 'DATA_TYPE_INT16',\n",
       " 'DATA_TYPE_INT32',\n",
       " 'DATA_TYPE_INT64',\n",
       " 'DATA_TYPE_UINT32',\n",
       " '__class__',\n",
       " '__cmp__',\n",
       " '__delattr__',\n",
       " '__dict__',\n",
       " '__doc__',\n",
       " '__eq__',\n",
       " '__format__',\n",
       " '__ge__',\n",
       " '__getattribute__',\n",
       " '__gt__',\n",
       " '__hash__',\n",
       " '__hex__',\n",
       " '__init__',\n",
       " '__int__',\n",
       " '__le__',\n",
       " '__long__',\n",
       " '__lt__',\n",
       " '__ne__',\n",
       " '__new__',\n",
       " '__oct__',\n",
       " '__reduce__',\n",
       " '__reduce_ex__',\n",
       " '__repr__',\n",
       " '__setattr__',\n",
       " '__sizeof__',\n",
       " '__str__',\n",
       " '__subclasshook__',\n",
       " 'acquire',\n",
       " 'append',\n",
       " 'channel_type',\n",
       " 'channel_type_to_string',\n",
       " 'data_type',\n",
       " 'data_type_to_string',\n",
       " 'disown',\n",
       " 'name',\n",
       " 'next',\n",
       " 'own',\n",
       " 'sample_rate',\n",
       " 'signal_gain',\n",
       " 'signal_offset',\n",
       " 'signal_slope',\n",
       " 'signal_units',\n",
       " 'this',\n",
       " 'thisown']"
      ]
     },
     "execution_count": 21,
     "metadata": {},
     "output_type": "execute_result"
    }
   ],
   "source": [
    "dir(data[0].channel)"
   ]
  },
  {
   "cell_type": "code",
   "execution_count": null,
   "metadata": {
    "collapsed": true
   },
   "outputs": [],
   "source": []
  }
 ],
 "metadata": {
  "anaconda-cloud": {},
  "kernelspec": {
   "display_name": "Python 2",
   "language": "python",
   "name": "python2"
  },
  "language_info": {
   "codemirror_mode": {
    "name": "ipython",
    "version": 2
   },
   "file_extension": ".py",
   "mimetype": "text/x-python",
   "name": "python",
   "nbconvert_exporter": "python",
   "pygments_lexer": "ipython2",
   "version": "2.7.13"
  }
 },
 "nbformat": 4,
 "nbformat_minor": 1
}
