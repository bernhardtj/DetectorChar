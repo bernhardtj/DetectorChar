{
 "cells": [
  {
   "cell_type": "markdown",
   "metadata": {},
   "source": [
    "# Get Minute Trend Data from the LIGO Sites"
   ]
  },
  {
   "cell_type": "code",
   "execution_count": 1,
   "metadata": {},
   "outputs": [],
   "source": [
    "# Library Imports and Python parameter settings\n",
    "%matplotlib inline\n",
    "\n",
    "from __future__ import division\n",
    "import numpy as np\n",
    "#import matplotlib.pyplot as plt\n",
    "import scipy.io as sio\n",
    "#import scipy.signal as sig\n",
    "#import scipy.constants as const\n",
    "from astropy.time import Time\n",
    "#import sys\n",
    "#sys.path.append('/opt/local/Library/Frameworks/Python.framework/Versions/2.7/lib/python2.7')\n",
    "import nds2"
   ]
  },
  {
   "cell_type": "markdown",
   "metadata": {},
   "source": [
    "## setup the servers, start times, and duration"
   ]
  },
  {
   "cell_type": "code",
   "execution_count": 3,
   "metadata": {},
   "outputs": [],
   "source": [
    "ifo = 'H1'\n",
    "# Setup connection to the NDS\n",
    "conn = nds2.connection('nds.ligo.caltech.edu', 31200)\n",
    "\n",
    "# Setup start and stop times\n",
    "times = '2017-03-01 00:00:00'\n",
    "t = Time(times, format='iso', scale='utc')\n",
    "#t_start = int(t.gps)\n",
    "t_start = int(np.floor(t.gps/60)*60) # round start time to multiple of 60 for minute trend\n",
    "dur_in_days = 1\n",
    "dur_in_minutes = dur_in_days * 24 * 60\n",
    "dur = dur_in_minutes * 60    # must be a multiple of 60"
   ]
  },
  {
   "cell_type": "markdown",
   "metadata": {},
   "source": [
    "## Build up the channel list and Get the Data"
   ]
  },
  {
   "cell_type": "code",
   "execution_count": 4,
   "metadata": {},
   "outputs": [
    {
     "name": "stdout",
     "output_type": "stream",
     "text": [
      "H1:ISI-GND_STS_HAM2_X_BLRMS_100M_300M.mean, m-trend\n",
      "H1:ISI-GND_STS_HAM2_X_BLRMS_10_30.mean, m-trend\n",
      "H1:ISI-GND_STS_HAM2_X_BLRMS_1_3.mean, m-trend\n",
      "H1:ISI-GND_STS_HAM2_X_BLRMS_300M_1.mean, m-trend\n",
      "H1:ISI-GND_STS_HAM2_X_BLRMS_30M_100M.mean, m-trend\n",
      "H1:ISI-GND_STS_HAM2_X_BLRMS_3_10.mean, m-trend\n",
      "H1:ISI-GND_STS_HAM2_Y_BLRMS_100M_300M.mean, m-trend\n",
      "H1:ISI-GND_STS_HAM2_Y_BLRMS_10_30.mean, m-trend\n",
      "H1:ISI-GND_STS_HAM2_Y_BLRMS_1_3.mean, m-trend\n",
      "H1:ISI-GND_STS_HAM2_Y_BLRMS_300M_1.mean, m-trend\n",
      "H1:ISI-GND_STS_HAM2_Y_BLRMS_30M_100M.mean, m-trend\n",
      "H1:ISI-GND_STS_HAM2_Y_BLRMS_3_10.mean, m-trend\n",
      "H1:ISI-GND_STS_HAM2_Z_BLRMS_100M_300M.mean, m-trend\n",
      "H1:ISI-GND_STS_HAM2_Z_BLRMS_10_30.mean, m-trend\n",
      "H1:ISI-GND_STS_HAM2_Z_BLRMS_1_3.mean, m-trend\n",
      "H1:ISI-GND_STS_HAM2_Z_BLRMS_300M_1.mean, m-trend\n",
      "H1:ISI-GND_STS_HAM2_Z_BLRMS_30M_100M.mean, m-trend\n",
      "H1:ISI-GND_STS_HAM2_Z_BLRMS_3_10.mean, m-trend\n"
     ]
    }
   ],
   "source": [
    "chan_head = ifo + ':' + 'ISI-' + 'GND_STS' + '_'\n",
    "sensors = {'HAM2'}\n",
    "dofs = {'X', 'Y', 'Z'}\n",
    "bands = {'30M_100M', '100M_300M', '300M_1', '1_3', '3_10', '10_30'}\n",
    "channels = []\n",
    "# why is the channel ordering so weird? \n",
    "# need to use sorted to preserve the intended ordering\n",
    "for sensor in sorted(sensors):\n",
    "    for dof in sorted(dofs):\n",
    "        for band in sorted(bands):\n",
    "            channel = chan_head + sensor + '_' + dof + '_BLRMS_' + band + '.mean, m-trend'\n",
    "            #print channel\n",
    "            channels.append(channel)\n",
    "\n",
    "data = conn.fetch(t_start, t_start + dur, channels)\n",
    "\n",
    "for i in channels:\n",
    "    print(i)"
   ]
  },
  {
   "cell_type": "markdown",
   "metadata": {},
   "source": [
    "## save the data so that it can be loaded by matlab or python\n",
    "#### savemat will compress the data and save it in hdf5 format"
   ]
  },
  {
   "cell_type": "code",
   "execution_count": 8,
   "metadata": {},
   "outputs": [],
   "source": [
    "vdata = []\n",
    "# get the data and stack it into a single matrix where the data are the columns\n",
    "for k in range(len(channels)):\n",
    "    vdata.append(data[k].data)\n",
    "\n",
    "# save to a hdf5 format that matlab can read (why is compression off by default?)\n",
    "sio.savemat(ifo + '_SeismicBLRMS.mat', mdict={'data': vdata}, do_compression=True)"
   ]
  },
  {
   "cell_type": "markdown",
   "metadata": {},
   "source": [
    "### some debugging info about the channels"
   ]
  },
  {
   "cell_type": "code",
   "execution_count": 9,
   "metadata": {},
   "outputs": [
    {
     "name": "stdout",
     "output_type": "stream",
     "text": [
      "Channel name is H1:ISI-GND_STS_HAM2_X_BLRMS_100M_300M.mean\n",
      "Sample rate is 0.0166666992009 Hz\n",
      "Number of samples is 1440\n",
      "GPS Start time is 1172361600\n"
     ]
    }
   ],
   "source": [
    "print(\"Channel name is \" + data[0].channel.name)\n",
    "print(\"Sample rate is \" + str(data[0].channel.sample_rate) + \" Hz\")\n",
    "print(\"Number of samples is \" + str(data[0].length))\n",
    "print(\"GPS Start time is \" + str(data[0].gps_seconds))"
   ]
  },
  {
   "cell_type": "code",
   "execution_count": null,
   "metadata": {},
   "outputs": [],
   "source": [
    "dir(data[0])"
   ]
  },
  {
   "cell_type": "code",
   "execution_count": null,
   "metadata": {},
   "outputs": [],
   "source": [
    "dir(data[0].channel)"
   ]
  },
  {
   "cell_type": "code",
   "execution_count": null,
   "metadata": {},
   "outputs": [],
   "source": [
    "conn.fetch(t_start, t_start + dur, ['H1:ISI-GND_STS_HAM2_Y_BLRMS_300M_1.mean,m-trend'])"
   ]
  },
  {
   "cell_type": "code",
   "execution_count": null,
   "metadata": {},
   "outputs": [],
   "source": [
    "channels"
   ]
  },
  {
   "cell_type": "code",
   "execution_count": null,
   "metadata": {},
   "outputs": [],
   "source": [
    "print t_start\n",
    "print int(np.floor(t_start/60)*60)"
   ]
  },
  {
   "cell_type": "code",
   "execution_count": null,
   "metadata": {
    "collapsed": true
   },
   "outputs": [],
   "source": []
  }
 ],
 "metadata": {
  "anaconda-cloud": {},
  "kernelspec": {
   "display_name": "Python 2",
   "language": "python",
   "name": "python2"
  },
  "language_info": {
   "codemirror_mode": {
    "name": "ipython",
    "version": 2
   },
   "file_extension": ".py",
   "mimetype": "text/x-python",
   "name": "python",
   "nbconvert_exporter": "python",
   "pygments_lexer": "ipython2",
   "version": "2.7.13"
  }
 },
 "nbformat": 4,
 "nbformat_minor": 1
}
