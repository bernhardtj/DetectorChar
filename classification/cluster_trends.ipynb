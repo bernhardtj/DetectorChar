{
 "cells": [
  {
   "cell_type": "markdown",
   "metadata": {},
   "source": [
    "# Cluster some Data\n",
    "## do clustering using Keras / Tensorflow / SciKit\n",
    "### this example uses the band-limited RMS of some seismometers\n",
    "* http://learningtensorflow.com/lesson6/\n",
    "* https://codesachin.wordpress.com/2015/11/14/k-means-clustering-with-tensorflow/\n",
    "* http://napitupulu-jon.appspot.com/posts/kmeans-ud120.html\n",
    "* https://www.datascience.com/blog/introduction-to-k-means-clustering-algorithm-learn-data-science-tutorials\n",
    "* http://hdbscan.readthedocs.io/en/latest/basic_hdbscan.html"
   ]
  },
  {
   "cell_type": "code",
   "execution_count": null,
   "metadata": {
    "collapsed": false
   },
   "outputs": [],
   "source": [
    "%matplotlib inline\n",
    "\n",
    "from __future__ import division\n",
    "import matplotlib.cm as cm\n",
    "from matplotlib import rcParams\n",
    "import matplotlib.pyplot as plt\n",
    "import numpy as np\n",
    "#import os\n",
    "#import scipy.constants as scc\n",
    "from scipy.io import loadmat\n",
    "#import scipy.signal as sig\n",
    "#import sys\n",
    "from timeit import default_timer as timer\n",
    "\n",
    "#import tensorflow as tf\n",
    "#from keras.models import Sequential\n",
    "#from keras.layers import Dense, Activation\n",
    "from sklearn.cluster import KMeans\n",
    "import hdbscan    # can be installed using pip or directly from GitHub\n",
    "\n",
    "# List of non-awful colors\n",
    "cList = [\n",
    "         (0.1, 0.1, 1.0, 0.9),\n",
    "         (1.0, 0.1, 0.1, 0.9),\n",
    "         (0, 0.7, 0, 0.9),\n",
    "         (1.0, 0, 0.9, 0.9),\n",
    "         (0.8, 0.8, 0, 0.9),\n",
    "         (0, 0.6, 0.9, 0.9),\n",
    "         (1, 0.5, 0, 0.9),\n",
    "         (0.5, 0.5, 0.5, 0.9),\n",
    "         (0.4, 0, 0.5, 0.9),\n",
    "         (0, 0, 0, 0.9),\n",
    "         (0.5, 0.3, 0, 0.9),\n",
    "         (0, 0.3, 0, 0.9),\n",
    "        ]\n",
    "\n",
    "# Now alter my matplotlib parameters \n",
    "rcParams.update({'axes.color_cycle': cList,  # this is depreceated; use prop_cycle\n",
    "                    'axes.grid': True,\n",
    "                     'font.family': 'serif',\n",
    "                     'font.size': 8,\n",
    "                     #'font.serif': 'Palatino Linotype',\n",
    "                     'grid.color': 'grey',\n",
    "                     'grid.linestyle': '-',\n",
    "                     'grid.alpha': 0.5,\n",
    "                     'grid.linewidth': 1,\n",
    "                     'legend.borderpad': 0.2,\n",
    "                     'legend.fancybox': True,\n",
    "                     'legend.fontsize': 8,\n",
    "                     'legend.framealpha': 0.7,\n",
    "                     'legend.handletextpad': 0.1,\n",
    "                     'legend.labelspacing': 0.2,\n",
    "                     'legend.loc': 'best',\n",
    "                     'lines.linewidth': 1.5,\n",
    "                     'savefig.bbox': 'tight',\n",
    "                     'savefig.pad_inches': 0.02,\n",
    "                     'savefig.dpi': 200,\n",
    "                     'text.usetex': False,\n",
    "                     'text.latex.preamble': r'\\usepackage{txfonts}',\n",
    "                     'figure.figsize': (7,4),\n",
    "                     })\n",
    "\n",
    "ifo='H1'"
   ]
  },
  {
   "cell_type": "code",
   "execution_count": null,
   "metadata": {
    "collapsed": false
   },
   "outputs": [],
   "source": [
    "data = loadmat('Data/' + ifo + '_SeismicBLRMS.mat')\n",
    "blrms = np.transpose(data['data'])\n",
    "#channels = data['chans']\n",
    "npts, nchans = blrms.shape\n",
    "print(str(nchans) + \" channels of minute trend\")\n",
    "nbands = 6\n",
    "tt = np.arange(start=0, step=60, stop = npts*60)\n",
    "tdays = tt / 60 / 60 / 24"
   ]
  },
  {
   "cell_type": "markdown",
   "metadata": {},
   "source": [
    "### Plot the BLRMS minute trend of the seismic data"
   ]
  },
  {
   "cell_type": "code",
   "execution_count": null,
   "metadata": {
    "collapsed": false
   },
   "outputs": [],
   "source": [
    "plt.figure(figsize=(10,4))\n",
    "\n",
    "\n",
    "chans = data['chans']\n",
    "# plot the BLRMS for 1 sensor\n",
    "for zz in range(nbands):\n",
    "    chan = chans[zz]\n",
    "    chan = chan.replace(ifo + ':ISI-GND_STS_','')\n",
    "    chan = chan.replace('.mean, m-trend','')\n",
    "    plt.semilogy(tdays, blrms[:,zz], alpha=0.75,\n",
    "        c = cm.spectral(int(256*(zz/nbands))), label=r'$\\mathrm{%s}$' % chan.replace('_','\\_'))\n",
    "\n",
    "\n",
    "plt.ylim([9, 2000])\n",
    "plt.xlim([0,30])\n",
    "plt.xlabel('Time [days]')\n",
    "plt.legend(loc='best')\n",
    "plt.show()"
   ]
  },
  {
   "cell_type": "code",
   "execution_count": null,
   "metadata": {
    "collapsed": false
   },
   "outputs": [],
   "source": [
    "random_state = 137\n",
    "tic = timer()\n",
    "n_clusters = 10\n",
    "# k-means clustering\n",
    "k_pred = KMeans(n_clusters=n_clusters, random_state=random_state).fit_predict(blrms)\n",
    "toc = timer()\n",
    "\n",
    "# hdbscan clustering\n",
    "# http://hdbscan.readthedocs.io/en/latest/basic_hdbscan.html\n",
    "nsensors = nchans/nbands\n",
    "t_stride = 10          # time chunk in minutes\n",
    "min_clust_size = t_stride\n",
    "hclust = hdbscan.HDBSCAN(min_cluster_size=min_clust_size)\n",
    "h_pred = hclust.fit_predict(blrms)\n",
    "print \"# of clusters = \" + str(hclust.labels_.max())\n",
    "\n",
    "print(str(round(toc     - tic, 1)) + \" seconds for K-Means...\")\n",
    "print(str(round(timer() - toc, 1)) + \" seconds for H DB Scan...\")"
   ]
  },
  {
   "cell_type": "markdown",
   "metadata": {},
   "source": [
    "### Plot the 6 bands of one sensor with color indicating cluster"
   ]
  },
  {
   "cell_type": "code",
   "execution_count": null,
   "metadata": {
    "collapsed": false
   },
   "outputs": [],
   "source": [
    "tdays = tt / 60 / 60 / 24\n",
    "#plt.figure(figsize=(12, 6))\n",
    "fig, ax = plt.subplots(nrows=6, ncols=1)\n",
    "\n",
    "k=0\n",
    "for row in ax:\n",
    "    z = blrms[:,k]\n",
    "    ii = np.where(z > 0)[0]\n",
    "    z  = z[ii]\n",
    "    row.scatter(tdays[ii], z, c=k_pred[ii], alpha=0.5, s=1, cmap=cm.spectral)\n",
    "    row.set_yscale('log')\n",
    "    row.set_yticks(np.logspace(0,4,5))\n",
    "    row.set_ylim(np.median(z)/3, z.max()*1.05)\n",
    "    #row.set_ylim(10, 3000)\n",
    "\n",
    "    #plt.xlabel('Time [days]')\n",
    "    #row.set_ylabel('Velocity [microns/sec]')\n",
    "    row.set_xticks([0,7,14,21,28])\n",
    "    row.set_xlim([0,30])\n",
    "    if k < 5:\n",
    "        row.set_xticklabels('')\n",
    "    k += 1\n",
    "\n",
    "row.set_xlabel('Time [days]')\n",
    "\n",
    "fig.tight_layout(pad=0.1, w_pad=0.1, h_pad=0.1) # https://matplotlib.org/users/tight_layout_guide.html\n",
    "plt.show()"
   ]
  },
  {
   "cell_type": "code",
   "execution_count": null,
   "metadata": {
    "collapsed": false
   },
   "outputs": [],
   "source": [
    "x = data['data']"
   ]
  },
  {
   "cell_type": "code",
   "execution_count": null,
   "metadata": {
    "collapsed": false
   },
   "outputs": [],
   "source": [
    "list(data.keys())"
   ]
  },
  {
   "cell_type": "code",
   "execution_count": null,
   "metadata": {
    "collapsed": false
   },
   "outputs": [],
   "source": [
    "data['chans']"
   ]
  },
  {
   "cell_type": "code",
   "execution_count": null,
   "metadata": {
    "collapsed": false
   },
   "outputs": [],
   "source": [
    "blrms[:,k].max()"
   ]
  },
  {
   "cell_type": "code",
   "execution_count": null,
   "metadata": {
    "collapsed": false
   },
   "outputs": [],
   "source": [
    "ii = np.where(blrms[:,k] > 0)\n",
    "ii[0].shape"
   ]
  },
  {
   "cell_type": "code",
   "execution_count": null,
   "metadata": {
    "collapsed": false
   },
   "outputs": [],
   "source": [
    "h_pred"
   ]
  },
  {
   "cell_type": "code",
   "execution_count": null,
   "metadata": {
    "collapsed": true
   },
   "outputs": [],
   "source": []
  }
 ],
 "metadata": {
  "anaconda-cloud": {},
  "kernelspec": {
   "display_name": "Python 2",
   "language": "python",
   "name": "python2"
  },
  "language_info": {
   "codemirror_mode": {
    "name": "ipython",
    "version": 2
   },
   "file_extension": ".py",
   "mimetype": "text/x-python",
   "name": "python",
   "nbconvert_exporter": "python",
   "pygments_lexer": "ipython2",
   "version": "2.7.13"
  }
 },
 "nbformat": 4,
 "nbformat_minor": 1
}
