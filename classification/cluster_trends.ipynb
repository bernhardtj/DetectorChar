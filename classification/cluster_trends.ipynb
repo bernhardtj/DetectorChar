{
 "cells": [
  {
   "cell_type": "markdown",
   "metadata": {},
   "source": [
    "# Cluster some Data\n",
    "## do k-means clustering using Keras / Tensorflow\n",
    "### this example uses the band-limited RMS of some seismometers\n",
    "* http://learningtensorflow.com/lesson6/\n",
    "* https://codesachin.wordpress.com/2015/11/14/k-means-clustering-with-tensorflow/\n",
    "* http://napitupulu-jon.appspot.com/posts/kmeans-ud120.html\n",
    "* https://www.datascience.com/blog/introduction-to-k-means-clustering-algorithm-learn-data-science-tutorials"
   ]
  },
  {
   "cell_type": "code",
   "execution_count": null,
   "metadata": {
    "collapsed": false
   },
   "outputs": [],
   "source": [
    "%matplotlib inline\n",
    "\n",
    "from __future__ import division\n",
    "\n",
    "import matplotlib as mpl\n",
    "import matplotlib.pyplot as plt\n",
    "import numpy as np\n",
    "import os\n",
    "import scipy.constants as scc\n",
    "from scipy.io import loadmat\n",
    "import scipy.signal as sig\n",
    "import sys\n",
    "from timeit import default_timer as timer\n",
    "\n",
    "import tensorflow as tf\n",
    "from keras.models import Sequential\n",
    "from keras.layers import Dense, Activation\n",
    "from sklearn.cluster import KMeans\n",
    "\n",
    "\n",
    "# List of non-awful colors\n",
    "cList = [\n",
    "         (0.1, 0.1, 1.0, 0.9),\n",
    "         (1.0, 0.1, 0.1, 0.9),\n",
    "         (0, 0.7, 0, 0.9),\n",
    "         (1.0, 0, 0.9, 0.9),\n",
    "         (0.8, 0.8, 0, 0.9),\n",
    "         (0, 0.6, 0.9, 0.9),\n",
    "         (1, 0.5, 0, 0.9),\n",
    "         (0.5, 0.5, 0.5, 0.9),\n",
    "         (0.4, 0, 0.5, 0.9),\n",
    "         (0, 0, 0, 0.9),\n",
    "         (0.5, 0.3, 0, 0.9),\n",
    "         (0, 0.3, 0, 0.9),\n",
    "        ]\n",
    "\n",
    "# Now alter my matplotlib parameters \n",
    "mpl.rcParams.update({'axes.color_cycle': cList,  # this is depreceated; use prop_cycle\n",
    "                     'axes.grid': True,\n",
    "                     'font.family': 'serif',\n",
    "                     'font.size': 12,\n",
    "                     #'font.serif': 'Palatino Linotype',\n",
    "                     'grid.color': 'k',\n",
    "                     'grid.linestyle': '-',\n",
    "                     'grid.alpha': 0.2,\n",
    "                     'grid.linewidth': 1,\n",
    "                     'legend.borderpad': 0.2,\n",
    "                     'legend.fancybox': True,\n",
    "                     'legend.fontsize': 8,\n",
    "                     'legend.framealpha': 0.7,\n",
    "                     'legend.handletextpad': 0.1,\n",
    "                     'legend.labelspacing': 0.2,\n",
    "                     'legend.loc': 'best',\n",
    "                     'lines.linewidth': 1.5,\n",
    "                     'savefig.bbox': 'tight',\n",
    "                     'savefig.pad_inches': 0.02,\n",
    "                     'text.usetex': False,\n",
    "                     'text.latex.preamble': r'\\usepackage{txfonts}'\n",
    "                     })\n",
    "mpl.rc(\"savefig\", dpi=200)\n",
    "mpl.rc(\"figure\", figsize = (5, 5))\n",
    "\n",
    "ifo='H1'"
   ]
  },
  {
   "cell_type": "code",
   "execution_count": null,
   "metadata": {
    "collapsed": true
   },
   "outputs": [],
   "source": [
    "data = loadmat('Data/H1_SeismicBLRMS_March.mat')\n",
    "blrms = np.transpose(data['data'])\n",
    "#channels = data['chans']\n",
    "npts, nchans = blrms.shape\n",
    "tt = np.arange(start=0, step=60, stop = npts*60)"
   ]
  },
  {
   "cell_type": "code",
   "execution_count": null,
   "metadata": {
    "collapsed": false
   },
   "outputs": [],
   "source": [
    "model = tf.global_variables_initializer()\n",
    "\n",
    "with tf.Session() as session:\n",
    "    sample_values = session.run(samples)\n",
    "    centroid_values = session.run(centroids)"
   ]
  },
  {
   "cell_type": "markdown",
   "metadata": {},
   "source": [
    "### Plot the BLRMS minute trend of the seismic data"
   ]
  },
  {
   "cell_type": "code",
   "execution_count": null,
   "metadata": {
    "collapsed": false
   },
   "outputs": [],
   "source": [
    "plt.figure(figsize=(10,4))\n",
    "tdays = tt / 60 / 60 / 24\n",
    "ntraces = 6\n",
    "for zz in range(ntraces):\n",
    "    plt.semilogy(tdays, blrms[:,zz], alpha=0.75,\n",
    "        c = mpl.cm.spectral(int(256*(zz/ntraces))))\n",
    "\n",
    "plt.xlabel('Time [days]')\n",
    "plt.show()"
   ]
  },
  {
   "cell_type": "code",
   "execution_count": null,
   "metadata": {
    "collapsed": false
   },
   "outputs": [],
   "source": [
    "random_state = 170\n",
    "tic = timer()\n",
    "y_pred = KMeans(n_clusters=10, random_state=random_state).fit_predict(blrms)\n",
    "tdays = tt / 60 / 60 / 24\n",
    "print(str(round(timer() - tic, 2)) + \" seconds elapsed...\")\n"
   ]
  },
  {
   "cell_type": "code",
   "execution_count": null,
   "metadata": {
    "collapsed": false
   },
   "outputs": [],
   "source": [
    "plt.figure(figsize=(12, 6))\n",
    "\n",
    "plt.subplot(211)\n",
    "plt.scatter(tdays, blrms[:,0], c=y_pred, alpha=0.5, s = 4)\n",
    "plt.yscale('log')\n",
    "plt.ylim(10,1e4)\n",
    "#plt.xlabel('Time [days]')\n",
    "plt.ylabel('Velocity [microns/sec]')\n",
    "\n",
    "plt.subplot(212)\n",
    "plt.scatter(tdays, blrms[:,1], c=y_pred, alpha=0.5, s = 4)\n",
    "plt.yscale('log')\n",
    "plt.ylim(1e2,5e3)\n",
    "plt.ylabel('Velocity [microns/sec]')\n",
    "\n",
    "plt.xlabel('Time [days]')\n",
    "\n",
    "plt.show()\n"
   ]
  },
  {
   "cell_type": "code",
   "execution_count": null,
   "metadata": {
    "collapsed": false
   },
   "outputs": [],
   "source": [
    "x = data['data']"
   ]
  },
  {
   "cell_type": "code",
   "execution_count": null,
   "metadata": {
    "collapsed": false
   },
   "outputs": [],
   "source": [
    "list(data.keys())"
   ]
  },
  {
   "cell_type": "code",
   "execution_count": null,
   "metadata": {
    "collapsed": false
   },
   "outputs": [],
   "source": [
    "data['chans']"
   ]
  },
  {
   "cell_type": "code",
   "execution_count": null,
   "metadata": {
    "collapsed": false
   },
   "outputs": [],
   "source": [
    "y_pred.shape"
   ]
  },
  {
   "cell_type": "code",
   "execution_count": null,
   "metadata": {
    "collapsed": true
   },
   "outputs": [],
   "source": []
  }
 ],
 "metadata": {
  "anaconda-cloud": {},
  "kernelspec": {
   "display_name": "Python 2",
   "language": "python",
   "name": "python2"
  },
  "language_info": {
   "codemirror_mode": {
    "name": "ipython",
    "version": 2
   },
   "file_extension": ".py",
   "mimetype": "text/x-python",
   "name": "python",
   "nbconvert_exporter": "python",
   "pygments_lexer": "ipython2",
   "version": "2.7.13"
  }
 },
 "nbformat": 4,
 "nbformat_minor": 1
}
