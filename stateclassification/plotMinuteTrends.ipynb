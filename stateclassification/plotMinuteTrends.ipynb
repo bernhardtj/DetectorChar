{
 "cells": [
  {
   "cell_type": "markdown",
   "metadata": {},
   "source": [
    "# Plot the Minute Trend Data\n",
    "the data are saved as scipy.io mat files with getMinuteTrend.py"
   ]
  },
  {
   "cell_type": "code",
   "execution_count": null,
   "metadata": {
    "collapsed": false
   },
   "outputs": [],
   "source": [
    "%matplotlib inline\n",
    "from __future__ import division\n",
    "\n",
    "import matplotlib as mpl\n",
    "import matplotlib.pyplot as plt\n",
    "import numpy as np\n",
    "import os\n",
    "import scipy.constants as scc\n",
    "from scipy.io import loadmat\n",
    "import scipy.signal as sig\n",
    "import sys\n",
    "\n",
    "# List of non-awful colors\n",
    "cList = [\n",
    "         (0.1, 0.1, 1.0, 0.9),\n",
    "         (1.0, 0.1, 0.1, 0.9),\n",
    "         (0, 0.7, 0, 0.9),\n",
    "         (1.0, 0, 0.9, 0.9),\n",
    "         (0.8, 0.8, 0, 0.9),\n",
    "         (0, 0.6, 0.9, 0.9),\n",
    "         (1, 0.5, 0, 0.9),\n",
    "         (0.5, 0.5, 0.5, 0.9),\n",
    "         (0.4, 0, 0.5, 0.9),\n",
    "         (0, 0, 0, 0.9),\n",
    "         (0.5, 0.3, 0, 0.9),\n",
    "         (0, 0.3, 0, 0.9),\n",
    "        ]\n",
    "\n",
    "# Now alter my matplotlib parameters \n",
    "mpl.rcParams.update({'axes.color_cycle': cList,  # this is depreceated; use prop_cycle\n",
    "                     'axes.grid': True,\n",
    "                     'font.family': 'serif',\n",
    "                     'font.size': 8,\n",
    "                     #'font.serif': 'Palatino Linotype',\n",
    "                     'grid.color': 'k',\n",
    "                     'grid.linestyle': '-',\n",
    "                     'grid.alpha': 0.2,\n",
    "                     'grid.linewidth': 1,\n",
    "                     'legend.borderpad': 0.2,\n",
    "                     'legend.fancybox': True,\n",
    "                     'legend.fontsize': 8,\n",
    "                     'legend.framealpha': 0.7,\n",
    "                     'legend.handletextpad': 0.1,\n",
    "                     'legend.labelspacing': 0.2,\n",
    "                     'legend.loc': 'best',\n",
    "                     'lines.linewidth': 1.5,\n",
    "                     'savefig.bbox': 'tight',\n",
    "                     'savefig.pad_inches': 0.02,\n",
    "                     'text.usetex': False,\n",
    "                     'text.latex.preamble': r'\\usepackage{txfonts}'\n",
    "                     })\n",
    "mpl.rc(\"savefig\", dpi=200)\n",
    "mpl.rc(\"figure\", figsize = (5, 5))\n",
    "\n",
    "ifo='40m'"
   ]
  },
  {
   "cell_type": "code",
   "execution_count": null,
   "metadata": {
    "collapsed": true
   },
   "outputs": [],
   "source": [
    "data = loadmat('Data/H1_SeismicBLRMS_March.mat')\n",
    "blrms = data['data']\n",
    "#channels = data['chans']\n",
    "nchans,npts = blrms.shape\n",
    "tt = np.arange(start=0, step=60, stop = npts*60)"
   ]
  },
  {
   "cell_type": "markdown",
   "metadata": {},
   "source": [
    "### Plot the BLRMS minute trend of the seismic data"
   ]
  },
  {
   "cell_type": "code",
   "execution_count": null,
   "metadata": {
    "collapsed": false
   },
   "outputs": [],
   "source": [
    "plt.figure(figsize=(10,5))\n",
    "tt = tt / 60 / 60 / 24\n",
    "for zz in range(nchans):\n",
    "    plt.semilogy(tt, blrms[zz,:], alpha=0.5,\n",
    "        c=mpl.cm.nipy_spectral(int(256*(zz/nchans))))\n",
    "\n",
    "plt.xlabel('Time [days]')\n",
    "plt.show()"
   ]
  },
  {
   "cell_type": "code",
   "execution_count": null,
   "metadata": {
    "collapsed": false
   },
   "outputs": [],
   "source": [
    "x = data['data']"
   ]
  },
  {
   "cell_type": "code",
   "execution_count": null,
   "metadata": {
    "collapsed": false
   },
   "outputs": [],
   "source": [
    "tt.shape"
   ]
  },
  {
   "cell_type": "code",
   "execution_count": null,
   "metadata": {
    "collapsed": false
   },
   "outputs": [],
   "source": [
    "tt[-1]"
   ]
  },
  {
   "cell_type": "code",
   "execution_count": null,
   "metadata": {
    "collapsed": true
   },
   "outputs": [],
   "source": []
  }
 ],
 "metadata": {
  "anaconda-cloud": {},
  "kernelspec": {
   "display_name": "Python 2",
   "language": "python",
   "name": "python2"
  },
  "language_info": {
   "codemirror_mode": {
    "name": "ipython",
    "version": 2
   },
   "file_extension": ".py",
   "mimetype": "text/x-python",
   "name": "python",
   "nbconvert_exporter": "python",
   "pygments_lexer": "ipython2",
   "version": "2.7.13"
  }
 },
 "nbformat": 4,
 "nbformat_minor": 1
}
